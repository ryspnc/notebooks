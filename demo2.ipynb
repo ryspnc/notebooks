{
  "nbformat": 4,
  "nbformat_minor": 0,
  "metadata": {
    "colab": {
      "name": "demo2.ipynb",
      "provenance": [],
      "collapsed_sections": [],
      "authorship_tag": "ABX9TyO3QU3DoR3Sp944Ehi/17km",
      "include_colab_link": true
    },
    "kernelspec": {
      "name": "python3",
      "display_name": "Python 3"
    }
  },
  "cells": [
    {
      "cell_type": "markdown",
      "metadata": {
        "id": "view-in-github",
        "colab_type": "text"
      },
      "source": [
        "<a href=\"https://colab.research.google.com/github/ryspnc/notebooks/blob/main/demo2.ipynb\" target=\"_parent\"><img src=\"https://colab.research.google.com/assets/colab-badge.svg\" alt=\"Open In Colab\"/></a>"
      ]
    },
    {
      "cell_type": "code",
      "metadata": {
        "colab": {
          "base_uri": "https://localhost:8080/"
        },
        "id": "F-w95g7hI_Zk",
        "outputId": "6d6d4380-495e-4383-9f7e-681e9aaa3ea2"
      },
      "source": [
        "#@title\n",
        "import pandas\n",
        "import matplotlib.pyplot as plt\n",
        "import json\n",
        "df = pandas.read_csv('https://raw.githubusercontent.com/ryspnc/notebooks/main/products.csv', index_col='product name')\n",
        "print(df)\n",
        "# df.head()\n",
        "\n",
        "product_price = df[\"price\"]\n",
        "# product_price.head()"
      ],
      "execution_count": 30,
      "outputs": [
        {
          "output_type": "stream",
          "text": [
            "                   product no  price    qty\n",
            "product name                               \n",
            "weber grill                 1    109  15002\n",
            "gibson guitar               2    899   1200\n",
            "wilson football             3     16  10000\n",
            "kitchenaid mixer            4    229    500\n",
            "fiesta  tableware           5     10      5\n"
          ],
          "name": "stdout"
        }
      ]
    },
    {
      "cell_type": "code",
      "metadata": {
        "id": "Yv8G1lavPIq0",
        "colab": {
          "base_uri": "https://localhost:8080/",
          "height": 370
        },
        "outputId": "043f8524-0894-4e0d-acb1-441db26bb066"
      },
      "source": [
        "product_price.plot.bar (stacked=True)"
      ],
      "execution_count": 31,
      "outputs": [
        {
          "output_type": "execute_result",
          "data": {
            "text/plain": [
              "<matplotlib.axes._subplots.AxesSubplot at 0x7ff06916be48>"
            ]
          },
          "metadata": {
            "tags": []
          },
          "execution_count": 31
        },
        {
          "output_type": "display_data",
          "data": {
            "image/png": "[encoded data removed]",
            "text/plain": [
              "<Figure size 432x288 with 1 Axes>"
            ]
          },
          "metadata": {
            "tags": [],
            "needs_background": "light"
          }
        }
      ]
    },
    {
      "cell_type": "code",
      "metadata": {
        "colab": {
          "base_uri": "https://localhost:8080/",
          "height": 296
        },
        "id": "wvRrh462TTxJ",
        "outputId": "fae8f21b-8d54-4230-b84f-238b2d7d8a9a"
      },
      "source": [
        "product_price.plot()"
      ],
      "execution_count": 34,
      "outputs": [
        {
          "output_type": "execute_result",
          "data": {
            "text/plain": [
              "<matplotlib.axes._subplots.AxesSubplot at 0x7ff0690fd748>"
            ]
          },
          "metadata": {
            "tags": []
          },
          "execution_count": 34
        },
        {
          "output_type": "display_data",
          "data": {
            "image/png": "[encoded data removed]",
            "text/plain": [
              "<Figure size 432x288 with 1 Axes>"
            ]
          },
          "metadata": {
            "tags": [],
            "needs_background": "light"
          }
        }
      ]
    },
    {
      "cell_type": "code",
      "metadata": {
        "colab": {
          "base_uri": "https://localhost:8080/"
        },
        "id": "gd8hmxzmQ9A1",
        "outputId": "59c48b04-239d-411c-c9c0-0a6892f82298"
      },
      "source": [
        "\n",
        "\n",
        "result = df.to_json(orient=\"index\")\n",
        "parsed = json.loads(result)\n",
        "print(json.dumps(parsed, indent=4))\n"
      ],
      "execution_count": 29,
      "outputs": [
        {
          "output_type": "stream",
          "text": [
            "{\n",
            "    \"weber grill\": {\n",
            "        \"product no\": 1,\n",
            "        \"price\": 109,\n",
            "        \"qty\": 15002\n",
            "    },\n",
            "    \"gibson guitar\": {\n",
            "        \"product no\": 2,\n",
            "        \"price\": 899,\n",
            "        \"qty\": 1200\n",
            "    },\n",
            "    \"wilson football\": {\n",
            "        \"product no\": 3,\n",
            "        \"price\": 16,\n",
            "        \"qty\": 10000\n",
            "    },\n",
            "    \"kitchenaid mixer\": {\n",
            "        \"product no\": 4,\n",
            "        \"price\": 229,\n",
            "        \"qty\": 500\n",
            "    },\n",
            "    \"fiesta  tableware\": {\n",
            "        \"product no\": 5,\n",
            "        \"price\": 10,\n",
            "        \"qty\": 5\n",
            "    }\n",
            "}\n"
          ],
          "name": "stdout"
        }
      ]
    },
    {
      "cell_type": "code",
      "metadata": {
        "colab": {
          "base_uri": "https://localhost:8080/"
        },
        "id": "wPQpmPKdTCzf",
        "outputId": "ddcf007c-d9a0-4159-9425-0ac241566a27"
      },
      "source": [
        "result = product_price.to_json(orient=\"index\")\n",
        "parsed = json.loads(result)\n",
        "print(json.dumps(parsed, indent=4))"
      ],
      "execution_count": 32,
      "outputs": [
        {
          "output_type": "stream",
          "text": [
            "{\n",
            "    \"weber grill\": 109,\n",
            "    \"gibson guitar\": 899,\n",
            "    \"wilson football\": 16,\n",
            "    \"kitchenaid mixer\": 229,\n",
            "    \"fiesta  tableware\": 10\n",
            "}\n"
          ],
          "name": "stdout"
        }
      ]
    }
  ]
}