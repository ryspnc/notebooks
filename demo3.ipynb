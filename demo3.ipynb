{
  "nbformat": 4,
  "nbformat_minor": 0,
  "metadata": {
    "colab": {
      "name": "demo2.ipynb",
      "provenance": [],
      "collapsed_sections": [],
      "authorship_tag": "ABX9TyNmQJFKWzHOeoNFbd6ai1oc",
      "include_colab_link": true
    },
    "kernelspec": {
      "name": "python3",
      "display_name": "Python 3"
    }
  },
  "cells": [
    {
      "cell_type": "markdown",
      "metadata": {
        "id": "view-in-github",
        "colab_type": "text"
      },
      "source": [
        "<a href=\"https://colab.research.google.com/github/ryspnc/notebooks/blob/main/demo3.ipynb\" target=\"_parent\"><img src=\"https://colab.research.google.com/assets/colab-badge.svg\" alt=\"Open In Colab\"/></a>"
      ]
    },
    {
      "cell_type": "code",
      "metadata": {
        "id": "F-w95g7hI_Zk"
      },
      "source": [
        "import pandas\n",
        "import matplotlib.pyplot as plt\n",
        "import json\n",
        "df = pandas.read_csv('https://raw.githubusercontent.com/ryspnc/notebooks/main/products.csv', index_col='product name')\n",
        "print(df)"
      ],
      "execution_count": null,
      "outputs": []
    },
    {
      "cell_type": "code",
      "metadata": {
        "id": "FKV37U4YWxLq"
      },
      "source": [
        "product_price = df[\"price\"]\n",
        "product_price.head()"
      ],
      "execution_count": null,
      "outputs": []
    },
    {
      "cell_type": "code",
      "metadata": {
        "id": "Yv8G1lavPIq0"
      },
      "source": [
        "product_price.plot.bar (stacked=True)"
      ],
      "execution_count": null,
      "outputs": []
    },
    {
      "cell_type": "code",
      "metadata": {
        "id": "wvRrh462TTxJ"
      },
      "source": [
        "product_price.plot()"
      ],
      "execution_count": null,
      "outputs": []
    },
    {
      "cell_type": "code",
      "metadata": {
        "id": "gd8hmxzmQ9A1"
      },
      "source": [
        "\n",
        "\n",
        "result = df.to_json(orient=\"index\")\n",
        "parsed = json.loads(result)\n",
        "print(json.dumps(parsed, indent=4))\n"
      ],
      "execution_count": null,
      "outputs": []
    },
    {
      "cell_type": "code",
      "metadata": {
        "id": "wPQpmPKdTCzf"
      },
      "source": [
        "result = product_price.to_json(orient=\"index\")\n",
        "parsed = json.loads(result)\n",
        "print(json.dumps(parsed, indent=4))"
      ],
      "execution_count": null,
      "outputs": []
    }
  ]
}